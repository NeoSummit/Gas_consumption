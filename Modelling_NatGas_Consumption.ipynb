{
 "cells": [
  {
   "cell_type": "code",
   "execution_count": 1,
   "id": "88941247-52bc-4be7-b3f2-3bbbd1a8a3f8",
   "metadata": {},
   "outputs": [],
   "source": [
    "import os\n",
    "import pandas as pd\n",
    "import numpy as np\n",
    "from scipy import stats\n",
    "from scipy import optimize\n",
    "from sklearn import metrics\n",
    "import matplotlib.pyplot as plt\n",
    "import seaborn as sns\n",
    "from loading_data import nat_gas_consumption_data,nat_gas_weather_data\n"
   ]
  },
  {
   "cell_type": "markdown",
   "id": "68b78ace-8771-40f3-8314-4daaa6be561e",
   "metadata": {},
   "source": [
    "### Data Processing and Loading"
   ]
  },
  {
   "cell_type": "code",
   "execution_count": 5,
   "id": "d26a3c08-f841-48c6-85a0-a421f08ef0a8",
   "metadata": {},
   "outputs": [],
   "source": [
    "ncg_consumption, gaspool_consumption, the_consumption,consumption_data = nat_gas_consumption_data()"
   ]
  },
  {
   "cell_type": "code",
   "execution_count": 6,
   "id": "c19ac6ef-3f80-4b9a-8bc8-3f5f14c1effe",
   "metadata": {},
   "outputs": [
    {
     "data": {
      "text/plain": [
       "2011-04-01    1233962.960\n",
       "2011-04-02    1006977.403\n",
       "2011-04-03    1025128.699\n",
       "2011-04-04    1334227.003\n",
       "2011-04-05    1362010.627\n",
       "                 ...     \n",
       "2025-01-03    3885514.929\n",
       "2025-01-04    3839419.985\n",
       "2025-01-05    3555282.958\n",
       "2025-01-06    1649270.688\n",
       "2025-01-07    1762171.128\n",
       "Length: 3843, dtype: float64"
      ]
     },
     "execution_count": 6,
     "metadata": {},
     "output_type": "execute_result"
    }
   ],
   "source": [
    "consumption_data"
   ]
  },
  {
   "cell_type": "code",
   "execution_count": 2,
   "id": "4d6756b9-280d-46b8-b0e7-813e311968c7",
   "metadata": {},
   "outputs": [
    {
     "data": {
      "text/html": [
       "<div>\n",
       "<style scoped>\n",
       "    .dataframe tbody tr th:only-of-type {\n",
       "        vertical-align: middle;\n",
       "    }\n",
       "\n",
       "    .dataframe tbody tr th {\n",
       "        vertical-align: top;\n",
       "    }\n",
       "\n",
       "    .dataframe thead th {\n",
       "        text-align: right;\n",
       "    }\n",
       "</style>\n",
       "<table border=\"1\" class=\"dataframe\">\n",
       "  <thead>\n",
       "    <tr style=\"text-align: right;\">\n",
       "      <th></th>\n",
       "      <th>temperature_2m_max (°C)</th>\n",
       "      <th>temperature_2m_min (°C)</th>\n",
       "      <th>temperature_2m_mean (°C)</th>\n",
       "      <th>sunshine_duration (h)</th>\n",
       "      <th>wind_speed_10m_max (km/h)</th>\n",
       "    </tr>\n",
       "    <tr>\n",
       "      <th>Date</th>\n",
       "      <th></th>\n",
       "      <th></th>\n",
       "      <th></th>\n",
       "      <th></th>\n",
       "      <th></th>\n",
       "    </tr>\n",
       "  </thead>\n",
       "  <tbody>\n",
       "    <tr>\n",
       "      <th>2000-01-01</th>\n",
       "      <td>2.2</td>\n",
       "      <td>-0.3</td>\n",
       "      <td>0.8</td>\n",
       "      <td>0.000000</td>\n",
       "      <td>12.5</td>\n",
       "    </tr>\n",
       "    <tr>\n",
       "      <th>2000-01-02</th>\n",
       "      <td>4.2</td>\n",
       "      <td>2.6</td>\n",
       "      <td>3.2</td>\n",
       "      <td>0.000000</td>\n",
       "      <td>16.2</td>\n",
       "    </tr>\n",
       "    <tr>\n",
       "      <th>2000-01-03</th>\n",
       "      <td>6.3</td>\n",
       "      <td>4.4</td>\n",
       "      <td>5.3</td>\n",
       "      <td>0.000000</td>\n",
       "      <td>20.0</td>\n",
       "    </tr>\n",
       "    <tr>\n",
       "      <th>2000-01-04</th>\n",
       "      <td>6.2</td>\n",
       "      <td>4.2</td>\n",
       "      <td>5.5</td>\n",
       "      <td>0.582544</td>\n",
       "      <td>21.1</td>\n",
       "    </tr>\n",
       "    <tr>\n",
       "      <th>2000-01-05</th>\n",
       "      <td>6.6</td>\n",
       "      <td>-1.1</td>\n",
       "      <td>3.9</td>\n",
       "      <td>6.064792</td>\n",
       "      <td>27.4</td>\n",
       "    </tr>\n",
       "    <tr>\n",
       "      <th>...</th>\n",
       "      <td>...</td>\n",
       "      <td>...</td>\n",
       "      <td>...</td>\n",
       "      <td>...</td>\n",
       "      <td>...</td>\n",
       "    </tr>\n",
       "    <tr>\n",
       "      <th>2025-01-01</th>\n",
       "      <td>7.0</td>\n",
       "      <td>0.7</td>\n",
       "      <td>4.8</td>\n",
       "      <td>1.019147</td>\n",
       "      <td>26.4</td>\n",
       "    </tr>\n",
       "    <tr>\n",
       "      <th>2025-01-02</th>\n",
       "      <td>6.8</td>\n",
       "      <td>1.0</td>\n",
       "      <td>4.1</td>\n",
       "      <td>5.422772</td>\n",
       "      <td>26.1</td>\n",
       "    </tr>\n",
       "    <tr>\n",
       "      <th>2025-01-03</th>\n",
       "      <td>2.5</td>\n",
       "      <td>-1.3</td>\n",
       "      <td>0.8</td>\n",
       "      <td>3.450067</td>\n",
       "      <td>30.3</td>\n",
       "    </tr>\n",
       "    <tr>\n",
       "      <th>2025-01-04</th>\n",
       "      <td>0.8</td>\n",
       "      <td>-2.6</td>\n",
       "      <td>-1.1</td>\n",
       "      <td>2.396658</td>\n",
       "      <td>19.8</td>\n",
       "    </tr>\n",
       "    <tr>\n",
       "      <th>2025-01-05</th>\n",
       "      <td>0.8</td>\n",
       "      <td>-2.4</td>\n",
       "      <td>-1.0</td>\n",
       "      <td>0.000000</td>\n",
       "      <td>18.7</td>\n",
       "    </tr>\n",
       "  </tbody>\n",
       "</table>\n",
       "<p>9137 rows × 5 columns</p>\n",
       "</div>"
      ],
      "text/plain": [
       "            temperature_2m_max (°C)  temperature_2m_min (°C)  \\\n",
       "Date                                                           \n",
       "2000-01-01                      2.2                     -0.3   \n",
       "2000-01-02                      4.2                      2.6   \n",
       "2000-01-03                      6.3                      4.4   \n",
       "2000-01-04                      6.2                      4.2   \n",
       "2000-01-05                      6.6                     -1.1   \n",
       "...                             ...                      ...   \n",
       "2025-01-01                      7.0                      0.7   \n",
       "2025-01-02                      6.8                      1.0   \n",
       "2025-01-03                      2.5                     -1.3   \n",
       "2025-01-04                      0.8                     -2.6   \n",
       "2025-01-05                      0.8                     -2.4   \n",
       "\n",
       "            temperature_2m_mean (°C)  sunshine_duration (h)  \\\n",
       "Date                                                          \n",
       "2000-01-01                       0.8               0.000000   \n",
       "2000-01-02                       3.2               0.000000   \n",
       "2000-01-03                       5.3               0.000000   \n",
       "2000-01-04                       5.5               0.582544   \n",
       "2000-01-05                       3.9               6.064792   \n",
       "...                              ...                    ...   \n",
       "2025-01-01                       4.8               1.019147   \n",
       "2025-01-02                       4.1               5.422772   \n",
       "2025-01-03                       0.8               3.450067   \n",
       "2025-01-04                      -1.1               2.396658   \n",
       "2025-01-05                      -1.0               0.000000   \n",
       "\n",
       "            wind_speed_10m_max (km/h)  \n",
       "Date                                   \n",
       "2000-01-01                       12.5  \n",
       "2000-01-02                       16.2  \n",
       "2000-01-03                       20.0  \n",
       "2000-01-04                       21.1  \n",
       "2000-01-05                       27.4  \n",
       "...                               ...  \n",
       "2025-01-01                       26.4  \n",
       "2025-01-02                       26.1  \n",
       "2025-01-03                       30.3  \n",
       "2025-01-04                       19.8  \n",
       "2025-01-05                       18.7  \n",
       "\n",
       "[9137 rows x 5 columns]"
      ]
     },
     "execution_count": 2,
     "metadata": {},
     "output_type": "execute_result"
    }
   ],
   "source": [
    "weather_data = nat_gas_weather_data()\n",
    "weather_data"
   ]
  },
  {
   "cell_type": "code",
   "execution_count": 11,
   "id": "b9b9d0c5-4f19-471c-8ac8-dd35d1def53b",
   "metadata": {},
   "outputs": [
    {
     "data": {
      "text/plain": [
       "-0.7211020755644544"
      ]
     },
     "execution_count": 11,
     "metadata": {},
     "output_type": "execute_result"
    }
   ],
   "source": [
    "consumption_data.corr(weather_data[\"temperature_2m_mean (°C)\"])\n"
   ]
  },
  {
   "cell_type": "code",
   "execution_count": null,
   "id": "c5a172d6-fc41-4fb8-af32-470486a0776a",
   "metadata": {},
   "outputs": [],
   "source": []
  }
 ],
 "metadata": {
  "kernelspec": {
   "display_name": "Python 3 (ipykernel)",
   "language": "python",
   "name": "python3"
  },
  "language_info": {
   "codemirror_mode": {
    "name": "ipython",
    "version": 3
   },
   "file_extension": ".py",
   "mimetype": "text/x-python",
   "name": "python",
   "nbconvert_exporter": "python",
   "pygments_lexer": "ipython3",
   "version": "3.11.7"
  }
 },
 "nbformat": 4,
 "nbformat_minor": 5
}

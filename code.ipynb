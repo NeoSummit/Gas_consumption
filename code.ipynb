{
 "cells": [
  {
   "cell_type": "code",
   "execution_count": 2,
   "metadata": {},
   "outputs": [],
   "source": [
    "import pandas as pd"
   ]
  },
  {
   "cell_type": "code",
   "execution_count": 10,
   "metadata": {},
   "outputs": [],
   "source": [
    "def read_consumption(\n",
    "    file_netconnect: str = \"data\\AggregatedConsumptionData NetConnect.csv\",\n",
    "    file_gaspool: str = \"data\\Aggregated Consumption Date Market Area GASPOOL.csv\",\n",
    "    file_the: str = \"data\\AggregatedConsumptionData Trading Hub.csv\",\n",
    ") -> tuple([pd.Series, pd.Series, pd.Series]):\n",
    "    \"\"\"Reads historic natural gas consumption in MWh and returns them as a tuple of pandas series.\"\"\"\n",
    "\n",
    "    # Read NetConnect Germany CSV file\n",
    "    ncg_consumption = pd.read_csv(file_netconnect, sep=\";\", index_col=\"DayOfUse\")\n",
    "\n",
    "    ncg_consumption.index = pd.to_datetime(ncg_consumption.index, format=\"%d.%m.%Y\")\n",
    "\n",
    "    # Convert kWh to MWh and aggregate different measurement types\n",
    "    ncg_consumption = ncg_consumption.select_dtypes(\"number\") / 1000\n",
    "    ncg_consumption_aggregated = ncg_consumption.sum(axis=\"columns\")\n",
    "\n",
    "    # Read GASPOOL CSV file\n",
    "    gaspool_consumption = pd.read_csv(file_gaspool, sep=\";\", index_col=\"Datum\")\n",
    "\n",
    "    gaspool_consumption.index = pd.to_datetime(\n",
    "        gaspool_consumption.index, format=\"%d.%m.%Y\"\n",
    "    )\n",
    "    gaspool_consumption_aggregated = gaspool_consumption.sum(axis=\"columns\")\n",
    "\n",
    "    # Read Trading Hub Europe CSV file\n",
    "    the_consumption = pd.read_csv(file_the, sep=\";\", thousands=\",\", index_col=\"Gasday\")\n",
    "\n",
    "    the_consumption.index = pd.to_datetime(the_consumption.index, format=\"%d/%m/%Y\")\n",
    "\n",
    "    # Convert kWh to MWh and aggregate different measurement types\n",
    "    the_consumption = the_consumption.select_dtypes(\"number\") / 1000\n",
    "    the_consumption_aggregated = the_consumption.sum(axis=\"columns\")\n",
    "\n",
    "    return tuple(\n",
    "        [\n",
    "            ncg_consumption_aggregated.sort_index(),\n",
    "            gaspool_consumption_aggregated.sort_index(),\n",
    "            the_consumption_aggregated.sort_index(),\n",
    "        ]\n",
    "    )"
   ]
  },
  {
   "cell_type": "code",
   "execution_count": 18,
   "metadata": {},
   "outputs": [
    {
     "name": "stdout",
     "output_type": "stream",
     "text": [
      "0    1.0\n",
      "1    6.0\n",
      "2    3.0\n",
      "3    5.0\n",
      "dtype: float64\n"
     ]
    }
   ],
   "source": [
    "import pandas as pd\n",
    "\n",
    "# Deux séries de longueurs différentes\n",
    "s1 = pd.Series([1, 2, 3], index=[0, 1, 2])\n",
    "s2 = pd.Series([4, 5], index=[1, 3])\n",
    "\n",
    "# s3 = s1 + s2\n",
    "# print(s3)\n",
    "\n",
    "# Combiner en remplissant les indices manquants avec 0\n",
    "result = s1.add(s2, fill_value=0)\n",
    "\n",
    "print(result)\n"
   ]
  },
  {
   "cell_type": "code",
   "execution_count": 23,
   "metadata": {},
   "outputs": [
    {
     "name": "stdout",
     "output_type": "stream",
     "text": [
      "2011-04-01    1233962.960\n",
      "2011-04-02    1006977.403\n",
      "2011-04-03    1025128.699\n",
      "2011-04-04    1334227.003\n",
      "2011-04-05    1362010.627\n",
      "                 ...     \n",
      "2024-10-27    1914459.771\n",
      "2024-10-28    2186914.778\n",
      "2024-10-29    2330071.796\n",
      "2024-10-30    2312481.125\n",
      "2024-10-31    2256990.688\n",
      "Length: 4963, dtype: float64\n"
     ]
    }
   ],
   "source": [
    "ncg_consumption, gaspool_consumption, the_consumption = read_consumption()\n",
    "consumption_data = pd.concat([ncg_consumption.add(gaspool_consumption, fill_value=0), the_consumption])\n",
    "print(consumption_data)"
   ]
  }
 ],
 "metadata": {
  "kernelspec": {
   "display_name": ".venv",
   "language": "python",
   "name": "python3"
  },
  "language_info": {
   "codemirror_mode": {
    "name": "ipython",
    "version": 3
   },
   "file_extension": ".py",
   "mimetype": "text/x-python",
   "name": "python",
   "nbconvert_exporter": "python",
   "pygments_lexer": "ipython3",
   "version": "3.11.0"
  }
 },
 "nbformat": 4,
 "nbformat_minor": 2
}

{
 "cells": [
  {
   "cell_type": "code",
   "execution_count": 2,
   "metadata": {},
   "outputs": [],
   "source": [
    "import pandas as pd"
   ]
  },
  {
   "cell_type": "code",
   "execution_count": 34,
   "metadata": {},
   "outputs": [],
   "source": [
    "def read_consumption(\n",
    "    file_netconnect: str = \"data\\AggregatedConsumptionData NetConnect.csv\",\n",
    "    file_gaspool: str = \"data\\Aggregated Consumption Date Market Area GASPOOL.csv\",\n",
    "    file_the: str = \"data\\AggregatedConsumptionData Trading Hub.csv\",\n",
    ") -> tuple([pd.Series, pd.Series, pd.Series]):\n",
    "    \"\"\"Reads historic natural gas consumption in MWh and returns them as a tuple of pandas series.\"\"\"\n",
    "\n",
    "    # Read NetConnect Germany CSV file\n",
    "    ncg_consumption = pd.read_csv(file_netconnect, sep=\";\", index_col=\"DayOfUse\")\n",
    "\n",
    "    ncg_consumption.index = pd.to_datetime(ncg_consumption.index, format=\"%d.%m.%Y\")\n",
    "\n",
    "    # Convert kWh to MWh and aggregate different measurement types\n",
    "    ncg_consumption = ncg_consumption.select_dtypes(\"number\") / 1000\n",
    "    ncg_consumption_aggregated = ncg_consumption.sum(axis=\"columns\")\n",
    "\n",
    "    # Read GASPOOL CSV file\n",
    "    gaspool_consumption = pd.read_csv(file_gaspool, sep=\";\", index_col=\"Datum\")\n",
    "\n",
    "    gaspool_consumption.index = pd.to_datetime(\n",
    "        gaspool_consumption.index, format=\"%d.%m.%Y\"\n",
    "    )\n",
    "    gaspool_consumption_aggregated = gaspool_consumption.sum(axis=\"columns\")\n",
    "\n",
    "    # Read Trading Hub Europe CSV file\n",
    "    the_consumption = pd.read_csv(file_the, sep=\";\", thousands=\",\", index_col=\"Gasday\")\n",
    "\n",
    "    the_consumption.index = pd.to_datetime(the_consumption.index, format=\"%d/%m/%Y\")\n",
    "\n",
    "    # Convert kWh to MWh and aggregate different measurement types\n",
    "    the_consumption = the_consumption.select_dtypes(\"number\") / 1000\n",
    "    the_consumption_aggregated = the_consumption.sum(axis=\"columns\")\n",
    "\n",
    "    return tuple(\n",
    "        [\n",
    "            ncg_consumption_aggregated.sort_index(),\n",
    "            gaspool_consumption_aggregated.sort_index(),\n",
    "            the_consumption_aggregated.sort_index(),\n",
    "        ]\n",
    "    )"
   ]
  },
  {
   "cell_type": "code",
   "execution_count": 58,
   "metadata": {},
   "outputs": [],
   "source": [
    "def read_temperatures(file: str = \"data/open-meteo-52.55N13.41E38m.csv\") -> pd.Series:\n",
    "    \"\"\"Reads ERA5 temperature data from a CSV file and returns a pandas Series with temperature in Celsius.\"\"\"\n",
    "    \n",
    "    # Load the data\n",
    "    data = pd.read_csv(file, sep=\",\", skiprows=2, header=0)\n",
    "\n",
    "    # Convert sunshine duration from seconds to hours\n",
    "    data[\"sunshine_duration (s)\"] = data[\"sunshine_duration (s)\"] / 3600\n",
    "    data = data.rename(columns={\"sunshine_duration (s)\": \"sunshine_duration (h)\"})\n",
    "    \n",
    "    # Rename and format the date column\n",
    "    data = data.rename(columns={\"time\": \"Date\"})\n",
    "    data[\"Date\"] = pd.to_datetime(data[\"Date\"])\n",
    "    \n",
    "    # Set the date column as the index\n",
    "    data.set_index(\"Date\", inplace=True)\n",
    "    \n",
    "    return data"
   ]
  },
  {
   "cell_type": "code",
   "execution_count": 60,
   "metadata": {},
   "outputs": [
    {
     "name": "stdout",
     "output_type": "stream",
     "text": [
      "Index(['temperature_2m_max (°C)', 'temperature_2m_min (°C)',\n",
      "       'temperature_2m_mean (°C)', 'sunshine_duration (h)',\n",
      "       'wind_speed_10m_max (km/h)'],\n",
      "      dtype='object')\n",
      "<class 'pandas.core.series.Series'>\n"
     ]
    }
   ],
   "source": [
    "temperature = read_temperatures()\n",
    "print(temperature.columns)\n",
    "temp_2m_max = temperature[\"temperature_2m_max (°C)\"]\n",
    "print(type(temp_2m_max))"
   ]
  },
  {
   "cell_type": "code",
   "execution_count": 35,
   "metadata": {},
   "outputs": [
    {
     "name": "stdout",
     "output_type": "stream",
     "text": [
      "2011-04-01    1233962.960\n",
      "2011-04-02    1006977.403\n",
      "2011-04-03    1025128.699\n",
      "2011-04-04    1334227.003\n",
      "2011-04-05    1362010.627\n",
      "                 ...     \n",
      "2024-10-27    1914459.771\n",
      "2024-10-28    2186914.778\n",
      "2024-10-29    2330071.796\n",
      "2024-10-30    2312481.125\n",
      "2024-10-31    2256990.688\n",
      "Length: 4963, dtype: float64\n"
     ]
    }
   ],
   "source": [
    "ncg_consumption, gaspool_consumption, the_consumption = read_consumption()\n",
    "consumption_data = pd.concat([ncg_consumption.add(gaspool_consumption, fill_value=0), the_consumption])\n",
    "print(consumption_data)\n"
   ]
  }
 ],
 "metadata": {
  "kernelspec": {
   "display_name": ".venv",
   "language": "python",
   "name": "python3"
  },
  "language_info": {
   "codemirror_mode": {
    "name": "ipython",
    "version": 3
   },
   "file_extension": ".py",
   "mimetype": "text/x-python",
   "name": "python",
   "nbconvert_exporter": "python",
   "pygments_lexer": "ipython3",
   "version": "3.11.0"
  }
 },
 "nbformat": 4,
 "nbformat_minor": 2
}
